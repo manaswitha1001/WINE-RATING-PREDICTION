{
 "cells": [
  {
   "cell_type": "code",
   "execution_count": 151,
   "metadata": {},
   "outputs": [],
   "source": [
    "# Loading the required Pacakges\n",
    "import pandas as pd\n",
    "import numpy as np\n",
    "import warnings\n",
    "warnings.filterwarnings('ignore')\n",
    "from sklearn.metrics import mean_squared_error, make_scorer\n",
    "from sklearn.feature_extraction import FeatureHasher\n",
    "from sklearn.feature_extraction.text import TfidfVectorizer\n",
    "import re\n",
    "from scipy import sparse as sp\n",
    "from sklearn.model_selection import train_test_split\n",
    "from sklearn.model_selection import GridSearchCV\n",
    "from sklearn.linear_model import Ridge\n",
    "from sklearn.ensemble import BaggingRegressor, GradientBoostingRegressor\n",
    "from sklearn.metrics import mean_squared_error, make_scorer\n",
    "import pickle\n",
    "from sklearn.preprocessing import MinMaxScaler\n",
    "from sklearn import linear_model\n",
    "from sklearn.decomposition import NMF, LatentDirichletAllocation\n",
    "from sklearn.feature_extraction import FeatureHasher\n",
    "import matplotlib.pyplot as plt\n",
    "%matplotlib inline\n",
    "plt.rcParams['figure.figsize'] = (20, 12)"
   ]
  },
  {
   "cell_type": "code",
   "execution_count": 3,
   "metadata": {},
   "outputs": [],
   "source": [
    "# Load the data \n",
    "data = pd.read_csv(\"./winedata.csv\")"
   ]
  },
  {
   "cell_type": "code",
   "execution_count": 4,
   "metadata": {},
   "outputs": [
    {
     "data": {
      "text/plain": [
       "(129971, 14)"
      ]
     },
     "execution_count": 4,
     "metadata": {},
     "output_type": "execute_result"
    }
   ],
   "source": [
    "data.shape"
   ]
  },
  {
   "cell_type": "code",
   "execution_count": 5,
   "metadata": {},
   "outputs": [
    {
     "data": {
      "text/html": [
       "<div>\n",
       "<style scoped>\n",
       "    .dataframe tbody tr th:only-of-type {\n",
       "        vertical-align: middle;\n",
       "    }\n",
       "\n",
       "    .dataframe tbody tr th {\n",
       "        vertical-align: top;\n",
       "    }\n",
       "\n",
       "    .dataframe thead th {\n",
       "        text-align: right;\n",
       "    }\n",
       "</style>\n",
       "<table border=\"1\" class=\"dataframe\">\n",
       "  <thead>\n",
       "    <tr style=\"text-align: right;\">\n",
       "      <th></th>\n",
       "      <th>Unnamed: 0</th>\n",
       "      <th>country</th>\n",
       "      <th>description</th>\n",
       "      <th>designation</th>\n",
       "      <th>points</th>\n",
       "      <th>price</th>\n",
       "      <th>province</th>\n",
       "      <th>region_1</th>\n",
       "      <th>region_2</th>\n",
       "      <th>taster_name</th>\n",
       "      <th>taster_twitter_handle</th>\n",
       "      <th>title</th>\n",
       "      <th>variety</th>\n",
       "      <th>winery</th>\n",
       "    </tr>\n",
       "  </thead>\n",
       "  <tbody>\n",
       "    <tr>\n",
       "      <th>0</th>\n",
       "      <td>0</td>\n",
       "      <td>Italy</td>\n",
       "      <td>Aromas include tropical fruit, broom, brimston...</td>\n",
       "      <td>Vulkà Bianco</td>\n",
       "      <td>87</td>\n",
       "      <td>NaN</td>\n",
       "      <td>Sicily &amp; Sardinia</td>\n",
       "      <td>Etna</td>\n",
       "      <td>NaN</td>\n",
       "      <td>Kerin O’Keefe</td>\n",
       "      <td>@kerinokeefe</td>\n",
       "      <td>Nicosia 2013 Vulkà Bianco  (Etna)</td>\n",
       "      <td>White Blend</td>\n",
       "      <td>Nicosia</td>\n",
       "    </tr>\n",
       "    <tr>\n",
       "      <th>1</th>\n",
       "      <td>1</td>\n",
       "      <td>Portugal</td>\n",
       "      <td>This is ripe and fruity, a wine that is smooth...</td>\n",
       "      <td>Avidagos</td>\n",
       "      <td>87</td>\n",
       "      <td>15.0</td>\n",
       "      <td>Douro</td>\n",
       "      <td>NaN</td>\n",
       "      <td>NaN</td>\n",
       "      <td>Roger Voss</td>\n",
       "      <td>@vossroger</td>\n",
       "      <td>Quinta dos Avidagos 2011 Avidagos Red (Douro)</td>\n",
       "      <td>Portuguese Red</td>\n",
       "      <td>Quinta dos Avidagos</td>\n",
       "    </tr>\n",
       "    <tr>\n",
       "      <th>2</th>\n",
       "      <td>2</td>\n",
       "      <td>US</td>\n",
       "      <td>Tart and snappy, the flavors of lime flesh and...</td>\n",
       "      <td>NaN</td>\n",
       "      <td>87</td>\n",
       "      <td>14.0</td>\n",
       "      <td>Oregon</td>\n",
       "      <td>Willamette Valley</td>\n",
       "      <td>Willamette Valley</td>\n",
       "      <td>Paul Gregutt</td>\n",
       "      <td>@paulgwine</td>\n",
       "      <td>Rainstorm 2013 Pinot Gris (Willamette Valley)</td>\n",
       "      <td>Pinot Gris</td>\n",
       "      <td>Rainstorm</td>\n",
       "    </tr>\n",
       "    <tr>\n",
       "      <th>3</th>\n",
       "      <td>3</td>\n",
       "      <td>US</td>\n",
       "      <td>Pineapple rind, lemon pith and orange blossom ...</td>\n",
       "      <td>Reserve Late Harvest</td>\n",
       "      <td>87</td>\n",
       "      <td>13.0</td>\n",
       "      <td>Michigan</td>\n",
       "      <td>Lake Michigan Shore</td>\n",
       "      <td>NaN</td>\n",
       "      <td>Alexander Peartree</td>\n",
       "      <td>NaN</td>\n",
       "      <td>St. Julian 2013 Reserve Late Harvest Riesling ...</td>\n",
       "      <td>Riesling</td>\n",
       "      <td>St. Julian</td>\n",
       "    </tr>\n",
       "    <tr>\n",
       "      <th>4</th>\n",
       "      <td>4</td>\n",
       "      <td>US</td>\n",
       "      <td>Much like the regular bottling from 2012, this...</td>\n",
       "      <td>Vintner's Reserve Wild Child Block</td>\n",
       "      <td>87</td>\n",
       "      <td>65.0</td>\n",
       "      <td>Oregon</td>\n",
       "      <td>Willamette Valley</td>\n",
       "      <td>Willamette Valley</td>\n",
       "      <td>Paul Gregutt</td>\n",
       "      <td>@paulgwine</td>\n",
       "      <td>Sweet Cheeks 2012 Vintner's Reserve Wild Child...</td>\n",
       "      <td>Pinot Noir</td>\n",
       "      <td>Sweet Cheeks</td>\n",
       "    </tr>\n",
       "  </tbody>\n",
       "</table>\n",
       "</div>"
      ],
      "text/plain": [
       "   Unnamed: 0   country                                        description  \\\n",
       "0           0     Italy  Aromas include tropical fruit, broom, brimston...   \n",
       "1           1  Portugal  This is ripe and fruity, a wine that is smooth...   \n",
       "2           2        US  Tart and snappy, the flavors of lime flesh and...   \n",
       "3           3        US  Pineapple rind, lemon pith and orange blossom ...   \n",
       "4           4        US  Much like the regular bottling from 2012, this...   \n",
       "\n",
       "                          designation  points  price           province  \\\n",
       "0                        Vulkà Bianco      87    NaN  Sicily & Sardinia   \n",
       "1                            Avidagos      87   15.0              Douro   \n",
       "2                                 NaN      87   14.0             Oregon   \n",
       "3                Reserve Late Harvest      87   13.0           Michigan   \n",
       "4  Vintner's Reserve Wild Child Block      87   65.0             Oregon   \n",
       "\n",
       "              region_1           region_2         taster_name  \\\n",
       "0                 Etna                NaN       Kerin O’Keefe   \n",
       "1                  NaN                NaN          Roger Voss   \n",
       "2    Willamette Valley  Willamette Valley        Paul Gregutt   \n",
       "3  Lake Michigan Shore                NaN  Alexander Peartree   \n",
       "4    Willamette Valley  Willamette Valley        Paul Gregutt   \n",
       "\n",
       "  taster_twitter_handle                                              title  \\\n",
       "0          @kerinokeefe                  Nicosia 2013 Vulkà Bianco  (Etna)   \n",
       "1            @vossroger      Quinta dos Avidagos 2011 Avidagos Red (Douro)   \n",
       "2           @paulgwine       Rainstorm 2013 Pinot Gris (Willamette Valley)   \n",
       "3                   NaN  St. Julian 2013 Reserve Late Harvest Riesling ...   \n",
       "4           @paulgwine   Sweet Cheeks 2012 Vintner's Reserve Wild Child...   \n",
       "\n",
       "          variety               winery  \n",
       "0     White Blend              Nicosia  \n",
       "1  Portuguese Red  Quinta dos Avidagos  \n",
       "2      Pinot Gris            Rainstorm  \n",
       "3        Riesling           St. Julian  \n",
       "4      Pinot Noir         Sweet Cheeks  "
      ]
     },
     "execution_count": 5,
     "metadata": {},
     "output_type": "execute_result"
    }
   ],
   "source": [
    "data.head()"
   ]
  },
  {
   "cell_type": "markdown",
   "metadata": {},
   "source": [
    "# EDA"
   ]
  },
  {
   "cell_type": "code",
   "execution_count": 284,
   "metadata": {},
   "outputs": [
    {
     "data": {
      "text/html": [
       "<div>\n",
       "<style scoped>\n",
       "    .dataframe tbody tr th:only-of-type {\n",
       "        vertical-align: middle;\n",
       "    }\n",
       "\n",
       "    .dataframe tbody tr th {\n",
       "        vertical-align: top;\n",
       "    }\n",
       "\n",
       "    .dataframe thead th {\n",
       "        text-align: right;\n",
       "    }\n",
       "</style>\n",
       "<table border=\"1\" class=\"dataframe\">\n",
       "  <thead>\n",
       "    <tr style=\"text-align: right;\">\n",
       "      <th></th>\n",
       "      <th>index</th>\n",
       "      <th>count</th>\n",
       "      <th>country</th>\n",
       "    </tr>\n",
       "  </thead>\n",
       "  <tbody>\n",
       "    <tr>\n",
       "      <th>0</th>\n",
       "      <td>0</td>\n",
       "      <td>54265</td>\n",
       "      <td>US</td>\n",
       "    </tr>\n",
       "    <tr>\n",
       "      <th>1</th>\n",
       "      <td>1</td>\n",
       "      <td>17776</td>\n",
       "      <td>France</td>\n",
       "    </tr>\n",
       "    <tr>\n",
       "      <th>2</th>\n",
       "      <td>2</td>\n",
       "      <td>16914</td>\n",
       "      <td>Italy</td>\n",
       "    </tr>\n",
       "    <tr>\n",
       "      <th>3</th>\n",
       "      <td>3</td>\n",
       "      <td>6573</td>\n",
       "      <td>Spain</td>\n",
       "    </tr>\n",
       "    <tr>\n",
       "      <th>4</th>\n",
       "      <td>4</td>\n",
       "      <td>4875</td>\n",
       "      <td>Portugal</td>\n",
       "    </tr>\n",
       "    <tr>\n",
       "      <th>5</th>\n",
       "      <td>5</td>\n",
       "      <td>4416</td>\n",
       "      <td>Chile</td>\n",
       "    </tr>\n",
       "    <tr>\n",
       "      <th>6</th>\n",
       "      <td>6</td>\n",
       "      <td>3756</td>\n",
       "      <td>Argentina</td>\n",
       "    </tr>\n",
       "    <tr>\n",
       "      <th>7</th>\n",
       "      <td>7</td>\n",
       "      <td>2799</td>\n",
       "      <td>Austria</td>\n",
       "    </tr>\n",
       "    <tr>\n",
       "      <th>8</th>\n",
       "      <td>8</td>\n",
       "      <td>2294</td>\n",
       "      <td>Australia</td>\n",
       "    </tr>\n",
       "    <tr>\n",
       "      <th>9</th>\n",
       "      <td>9</td>\n",
       "      <td>2120</td>\n",
       "      <td>Germany</td>\n",
       "    </tr>\n",
       "  </tbody>\n",
       "</table>\n",
       "</div>"
      ],
      "text/plain": [
       "   index  count    country\n",
       "0      0  54265         US\n",
       "1      1  17776     France\n",
       "2      2  16914      Italy\n",
       "3      3   6573      Spain\n",
       "4      4   4875   Portugal\n",
       "5      5   4416      Chile\n",
       "6      6   3756  Argentina\n",
       "7      7   2799    Austria\n",
       "8      8   2294  Australia\n",
       "9      9   2120    Germany"
      ]
     },
     "execution_count": 284,
     "metadata": {},
     "output_type": "execute_result"
    }
   ],
   "source": [
    "countries=data['country'].value_counts().head(10)\n",
    "countries=pd.DataFrame({'country':countries.index, 'count':countries.values})\n",
    "countries.reset_index()\n",
    "countries.sort_values(by='count',ascending = False)\n",
    "countries.reset_index()"
   ]
  },
  {
   "cell_type": "markdown",
   "metadata": {},
   "source": [
    "# VIZ-1 TOP 10 countries producing wine"
   ]
  },
  {
   "cell_type": "code",
   "execution_count": 285,
   "metadata": {},
   "outputs": [
    {
     "data": {
      "image/png": "[encoded data removed]",
      "text/plain": [
       "<Figure size 1440x864 with 1 Axes>"
      ]
     },
     "metadata": {
      "image/png": {
       "height": 734,
       "width": 1201
      }
     },
     "output_type": "display_data"
    }
   ],
   "source": [
    "plt.barh(countries['country'],countries['count'],color='red')\n",
    "plt.xticks(rotation='vertical')\n",
    "plt.title(\"Top 10 countries\")\n",
    "plt.ylabel(\"countries \")\n",
    "plt.xlabel(\"Freq\")\n",
    "plt.xticks(rotation=90)\n",
    "plt.show()"
   ]
  },
  {
   "cell_type": "markdown",
   "metadata": {},
   "source": [
    "The above plot gives us an overview of the top 10 wine producer countries.\n",
    "The position is horizontal.\n",
    "The y-axis represents the top-10 countries\n",
    "The x-axis represents the number of wines produced by the country.\n",
    "As we can see from the plot US,FRance, Italy are 3 top most wine producers of the world.\n",
    "The bar plot is chosen as it suits best to encode the data with one categorical and one numerical attribute.\n"
   ]
  },
  {
   "cell_type": "markdown",
   "metadata": {},
   "source": [
    "# Viz-2 DISTRIBUTION of WINE RATINGS"
   ]
  },
  {
   "cell_type": "code",
   "execution_count": 275,
   "metadata": {},
   "outputs": [
    {
     "data": {
      "image/png": "[encoded data removed]",
      "text/plain": [
       "<Figure size 1440x864 with 1 Axes>"
      ]
     },
     "metadata": {
      "image/png": {
       "height": 712,
       "width": 1184
      }
     },
     "output_type": "display_data"
    }
   ],
   "source": [
    "\n",
    "plt.hist(data[\"points\"], bins=20,color='green')\n",
    "plt.xlabel(\"Points\")\n",
    "plt.ylabel(\"Freq\")\n",
    "plt.title(\"Histogram for wine-rating\")\n",
    "plt.show()"
   ]
  },
  {
   "cell_type": "code",
   "execution_count": null,
   "metadata": {},
   "outputs": [],
   "source": []
  },
  {
   "cell_type": "markdown",
   "metadata": {},
   "source": [
    "The target variable of the task is to predict the wine ratings given by the tasters.\n",
    "The above histogram gives us an overview of the distribution of the wine points rating.\n",
    "As we can see from the plot the range of ratings is from [80,100] and most of the wines are given ratings around 85-90.\n",
    "The histogram is chosen as the plot as it best suits the distribution of the univariate variable.\n",
    "\n"
   ]
  },
  {
   "cell_type": "markdown",
   "metadata": {},
   "source": [
    "# Data Wrangling "
   ]
  },
  {
   "cell_type": "code",
   "execution_count": 10,
   "metadata": {},
   "outputs": [],
   "source": [
    "# Delete rows with NAN \n",
    "# Dropping the unwanted columns\n",
    "data=data.drop(columns=['Unnamed: 0','taster_twitter_handle','taster_name','title','designation','region_2'])\n",
    "data=data.reset_index(drop=True)\n"
   ]
  },
  {
   "cell_type": "code",
   "execution_count": 287,
   "metadata": {
    "scrolled": true
   },
   "outputs": [
    {
     "data": {
      "image/png": "[encoded data removed]",
      "text/plain": [
       "<Figure size 1440x864 with 1 Axes>"
      ]
     },
     "metadata": {
      "image/png": {
       "height": 712,
       "width": 1178
      }
     },
     "output_type": "display_data"
    }
   ],
   "source": [
    "plt.scatter(data['points'],data['price'])\n",
    "plt.xticks(rotation='horizontal')\n",
    "plt.title(\"price vs points\")\n",
    "plt.ylabel(\"price \")\n",
    "plt.xlabel(\"points\")\n",
    "plt.show()\n"
   ]
  },
  {
   "cell_type": "markdown",
   "metadata": {},
   "source": [
    "The above plot show how the price of the wine and the wine ratings are correlated.\n",
    "The scatter plot is chosen as it best suites to determine the collinearity between 2 numerical variables.\n",
    "As we can see from the plot the best ratings are given for all the costly wines.\n",
    "\n",
    "The position is horizontal and vertical and channel is point.\n"
   ]
  },
  {
   "cell_type": "code",
   "execution_count": 13,
   "metadata": {},
   "outputs": [
    {
     "data": {
      "text/html": [
       "<div>\n",
       "<style scoped>\n",
       "    .dataframe tbody tr th:only-of-type {\n",
       "        vertical-align: middle;\n",
       "    }\n",
       "\n",
       "    .dataframe tbody tr th {\n",
       "        vertical-align: top;\n",
       "    }\n",
       "\n",
       "    .dataframe thead th {\n",
       "        text-align: right;\n",
       "    }\n",
       "</style>\n",
       "<table border=\"1\" class=\"dataframe\">\n",
       "  <thead>\n",
       "    <tr style=\"text-align: right;\">\n",
       "      <th></th>\n",
       "      <th>Total</th>\n",
       "      <th>Percent</th>\n",
       "    </tr>\n",
       "  </thead>\n",
       "  <tbody>\n",
       "    <tr>\n",
       "      <th>region_1</th>\n",
       "      <td>21247</td>\n",
       "      <td>16.347493</td>\n",
       "    </tr>\n",
       "    <tr>\n",
       "      <th>price</th>\n",
       "      <td>8996</td>\n",
       "      <td>6.921544</td>\n",
       "    </tr>\n",
       "    <tr>\n",
       "      <th>province</th>\n",
       "      <td>63</td>\n",
       "      <td>0.048472</td>\n",
       "    </tr>\n",
       "    <tr>\n",
       "      <th>country</th>\n",
       "      <td>63</td>\n",
       "      <td>0.048472</td>\n",
       "    </tr>\n",
       "    <tr>\n",
       "      <th>variety</th>\n",
       "      <td>1</td>\n",
       "      <td>0.000769</td>\n",
       "    </tr>\n",
       "    <tr>\n",
       "      <th>winery</th>\n",
       "      <td>0</td>\n",
       "      <td>0.000000</td>\n",
       "    </tr>\n",
       "    <tr>\n",
       "      <th>points</th>\n",
       "      <td>0</td>\n",
       "      <td>0.000000</td>\n",
       "    </tr>\n",
       "    <tr>\n",
       "      <th>description</th>\n",
       "      <td>0</td>\n",
       "      <td>0.000000</td>\n",
       "    </tr>\n",
       "  </tbody>\n",
       "</table>\n",
       "</div>"
      ],
      "text/plain": [
       "             Total    Percent\n",
       "region_1     21247  16.347493\n",
       "price         8996   6.921544\n",
       "province        63   0.048472\n",
       "country         63   0.048472\n",
       "variety          1   0.000769\n",
       "winery           0   0.000000\n",
       "points           0   0.000000\n",
       "description      0   0.000000"
      ]
     },
     "execution_count": 13,
     "metadata": {},
     "output_type": "execute_result"
    }
   ],
   "source": [
    "total = data.isnull().sum().sort_values(ascending = False)\n",
    "percent = (data.isnull().sum()/data.isnull().count()*100).sort_values(ascending = False)\n",
    "missing_data  = pd.concat([total, percent], axis=1, keys=['Total', 'Percent'])\n",
    "missing_data"
   ]
  },
  {
   "cell_type": "code",
   "execution_count": 14,
   "metadata": {},
   "outputs": [],
   "source": [
    "# removing rows which dont have price\n",
    "data=data.dropna(subset=['price'])\n",
    "data=data.reset_index(drop=True)\n",
    "\n",
    "data.fillna('other', inplace=True)"
   ]
  },
  {
   "cell_type": "code",
   "execution_count": 17,
   "metadata": {},
   "outputs": [
    {
     "data": {
      "text/html": [
       "<div>\n",
       "<style scoped>\n",
       "    .dataframe tbody tr th:only-of-type {\n",
       "        vertical-align: middle;\n",
       "    }\n",
       "\n",
       "    .dataframe tbody tr th {\n",
       "        vertical-align: top;\n",
       "    }\n",
       "\n",
       "    .dataframe thead th {\n",
       "        text-align: right;\n",
       "    }\n",
       "</style>\n",
       "<table border=\"1\" class=\"dataframe\">\n",
       "  <thead>\n",
       "    <tr style=\"text-align: right;\">\n",
       "      <th></th>\n",
       "      <th>Total</th>\n",
       "      <th>Percent</th>\n",
       "    </tr>\n",
       "  </thead>\n",
       "  <tbody>\n",
       "    <tr>\n",
       "      <th>winery</th>\n",
       "      <td>0</td>\n",
       "      <td>0.0</td>\n",
       "    </tr>\n",
       "    <tr>\n",
       "      <th>variety</th>\n",
       "      <td>0</td>\n",
       "      <td>0.0</td>\n",
       "    </tr>\n",
       "    <tr>\n",
       "      <th>region_1</th>\n",
       "      <td>0</td>\n",
       "      <td>0.0</td>\n",
       "    </tr>\n",
       "    <tr>\n",
       "      <th>province</th>\n",
       "      <td>0</td>\n",
       "      <td>0.0</td>\n",
       "    </tr>\n",
       "    <tr>\n",
       "      <th>price</th>\n",
       "      <td>0</td>\n",
       "      <td>0.0</td>\n",
       "    </tr>\n",
       "    <tr>\n",
       "      <th>points</th>\n",
       "      <td>0</td>\n",
       "      <td>0.0</td>\n",
       "    </tr>\n",
       "    <tr>\n",
       "      <th>description</th>\n",
       "      <td>0</td>\n",
       "      <td>0.0</td>\n",
       "    </tr>\n",
       "    <tr>\n",
       "      <th>country</th>\n",
       "      <td>0</td>\n",
       "      <td>0.0</td>\n",
       "    </tr>\n",
       "  </tbody>\n",
       "</table>\n",
       "</div>"
      ],
      "text/plain": [
       "             Total  Percent\n",
       "winery           0      0.0\n",
       "variety          0      0.0\n",
       "region_1         0      0.0\n",
       "province         0      0.0\n",
       "price            0      0.0\n",
       "points           0      0.0\n",
       "description      0      0.0\n",
       "country          0      0.0"
      ]
     },
     "execution_count": 17,
     "metadata": {},
     "output_type": "execute_result"
    }
   ],
   "source": [
    "total2 = data.isnull().sum().sort_values(ascending = False)\n",
    "percent2 = (data.isnull().sum()/data.isnull().count()*100).sort_values(ascending = False)\n",
    "missing_data2  = pd.concat([total2, percent2], axis=1, keys=['Total', 'Percent'])\n",
    "missing_data2"
   ]
  },
  {
   "cell_type": "markdown",
   "metadata": {},
   "source": [
    "# Data Cleaning\n",
    "\n",
    "The rows which containing missing values for the prices are removed.\n",
    "ALl the NAN from all the columns are filled with others category \n"
   ]
  },
  {
   "cell_type": "code",
   "execution_count": 19,
   "metadata": {},
   "outputs": [],
   "source": [
    "# Split the training data and test data \n",
    "X= data.drop(['points'],axis=1)\n",
    "Y= data['points']\n",
    "X_train, X_test, y_train, y_test = train_test_split(X, Y, test_size=0.2, random_state=42)                                                 "
   ]
  },
  {
   "cell_type": "code",
   "execution_count": 20,
   "metadata": {},
   "outputs": [],
   "source": [
    "#list of categorical variables \n",
    "cat_vars=['country','province','region_1','variety','winery']"
   ]
  },
  {
   "cell_type": "markdown",
   "metadata": {},
   "source": [
    "\n",
    "\n",
    "\n",
    "\n",
    "\n",
    "\n",
    "# Data Preprocessing "
   ]
  },
  {
   "cell_type": "markdown",
   "metadata": {},
   "source": [
    "For the feature processing \n",
    "THe data for wine reviews contains 3 different types of variables namely \n",
    "\n",
    "1 Numerical variable- ['price'] (Scaled using min-max scaler and is bought into the rang[0,1])\n",
    "\n",
    "\n",
    "2.Categorical Variables -['country','province','region_1','variety','winery']\n",
    "The categorical features are encoded using a Hash function with the feature Hasher and each categorical variables levels\n",
    "are hashed into a vector of size 50.\n",
    "The original data is very high dimensional when it is one hot encoded and also sparse.\n",
    "The main reason to choose hasher is that the categorical variables are too wide spread and has too many categories.\n",
    "and the hashing best represents all the data into a compact vector.\n",
    "Ref-- https://dzone.com/articles/feature-hashing-for-scalable-machine-learning\n",
    "\n",
    "    \n",
    "3.Textual data -['description'] The description column contains tet related to the wine description.\n",
    "The data is first converted into a count vector using Count vectorizer and then 10 topics \n",
    "are extracted from each textual description using the LDA method for both train and test data sets.\n",
    "So each vector for the description shows its proportion probability of each topic. \n",
    "\n",
    "\n",
    "\n"
   ]
  },
  {
   "cell_type": "markdown",
   "metadata": {},
   "source": [
    "# Feature Hashing for Categorical Variables¶"
   ]
  },
  {
   "cell_type": "code",
   "execution_count": 22,
   "metadata": {},
   "outputs": [],
   "source": [
    "\n",
    "fh = FeatureHasher(n_features=50, input_type='string')\n",
    "\n",
    "country_train = pd.DataFrame(fh.fit_transform(X_train['country'].values).toarray())\n",
    "country_test = pd.DataFrame(fh.transform(X_test['country'].values).toarray())\n",
    "\n",
    "province_train = pd.DataFrame(fh.fit_transform(X_train['province'].values).toarray())\n",
    "province_test = pd.DataFrame(fh.transform(X_test['province'].values).toarray())\n",
    "\n",
    "region_1_train = pd.DataFrame(fh.fit_transform(X_train['region_1'].values).toarray())\n",
    "region_1_test = pd.DataFrame(fh.transform(X_test['region_1'].values).toarray())\n",
    "\n",
    "variety_train = pd.DataFrame(fh.fit_transform(X_train['variety'].values).toarray())\n",
    "variety_test = pd.DataFrame(fh.transform(X_test['variety'].values).toarray())\n",
    "\n",
    "winery_train = pd.DataFrame(fh.fit_transform(X_train['winery'].values).toarray())\n",
    "winery_test = pd.DataFrame(fh.transform(X_test['winery'].values).toarray())\n",
    "\n"
   ]
  },
  {
   "cell_type": "code",
   "execution_count": 23,
   "metadata": {},
   "outputs": [],
   "source": [
    "X_train_fh=pd.concat([country_train,province_train,region_1_train,variety_train,winery_train],axis= 1)\n",
    "X_test_fh=pd.concat([country_test,province_test,region_1_test,variety_test,winery_test],axis= 1)"
   ]
  },
  {
   "cell_type": "markdown",
   "metadata": {},
   "source": [
    "# Scaling the Continous Variables"
   ]
  },
  {
   "cell_type": "code",
   "execution_count": 24,
   "metadata": {},
   "outputs": [],
   "source": [
    "scaler = MinMaxScaler(feature_range=(0, 1), copy=True)\n",
    "# Fitting only on training data and testing data \n",
    "train_price=pd.DataFrame(scaler.fit_transform(X_train[['price']]),columns=[\"price\"])  \n",
    "test_price = pd.DataFrame(scaler.transform(X_test[['price']]),columns=[\"price\"]) "
   ]
  },
  {
   "cell_type": "code",
   "execution_count": 25,
   "metadata": {},
   "outputs": [],
   "source": [
    "# concat text and numeric data \n",
    "X_train_nf=pd.concat([train_price,X_train_fh],axis=1)\n",
    "X_test_nf=pd.concat([test_price,X_test_fh],axis=1)"
   ]
  },
  {
   "cell_type": "markdown",
   "metadata": {},
   "source": [
    "\n",
    "# LDA Topic Modelling for Textual Data\n"
   ]
  },
  {
   "cell_type": "code",
   "execution_count": 17,
   "metadata": {},
   "outputs": [],
   "source": [
    "no_features = 1000\n",
    "tf_vectorizer = CountVectorizer(max_df=0.95, min_df=50, max_features=no_features, stop_words='english')\n",
    "tf = tf_vectorizer.fit_transform(X_train['description'])\n",
    "lda = LatentDirichletAllocation(n_topics=10, max_iter=5, random_state=0)\n",
    "dt_matrix = lda.fit_transform(tf)\n",
    "tf_test=tf_vectorizer.fit_transform(X_test['description'])\n",
    "test_matix=lda.transform(tf_test)"
   ]
  },
  {
   "cell_type": "code",
   "execution_count": 30,
   "metadata": {},
   "outputs": [],
   "source": [
    "# Setting the variable names \n",
    "lk= ['price']\n",
    "lf = [i for i in range(1,251)]\n",
    "for i in lf:\n",
    "    lk.append(i)\n",
    "X_train_nf.columns = lk\n",
    "X_test_nf.columns = lk \n",
    "train_desc=pd.DataFrame(dt_matrix,columns=['t1','t2','t3','t4','t5','t6','t7','t8','t9','t10'])\n",
    "test_desc=pd.DataFrame(test_matix,columns=['t1','t2','t3','t4','t5','t6','t7','t8','t9','t10'])"
   ]
  },
  {
   "cell_type": "code",
   "execution_count": 34,
   "metadata": {},
   "outputs": [],
   "source": [
    "#combine train, numeric ,categorical and text data \n",
    "train_final=pd.concat([X_train_nf,train_desc],axis=1)\n",
    "test_final=pd.concat([X_test_nf,test_desc],axis=1)"
   ]
  },
  {
   "cell_type": "code",
   "execution_count": null,
   "metadata": {},
   "outputs": [],
   "source": [
    "import pickle\n",
    "# saving the pickle files of train and test data \n",
    "train_final.to_pickle(\"./train_final.pkl\")\n",
    "test_final.to_pickle(\"./test_final.pkl\")\n",
    "y_train.to_pickle(\"./y_train.pkl\")\n",
    "y_test.to_pickle(\"./y_test.pkl\")"
   ]
  },
  {
   "cell_type": "markdown",
   "metadata": {},
   "source": [
    "# DATA MODELLING"
   ]
  },
  {
   "cell_type": "code",
   "execution_count": null,
   "metadata": {},
   "outputs": [],
   "source": [
    "Since the given task is Regression 3 different ML models are choosen to predict he values of the regression\n",
    "1. Ridge Regression\n",
    "2  Gradient-Boosting\n",
    "3. Bagging Regressor\n",
    "\n",
    "The optimal parameters for each model choosen  from a given set of defined parameters and is found using  GRid search with a 10 fold cross validation.\n",
    "The best parameters from the grid search are choosen to predict on the unseen test dataset.\n",
    "\n",
    "Since it is a Regression Task , the MSE (Mean squared Error) is choosen as an appropriate \n",
    "evaluation metric.\n",
    "All the models are evaluated using MSE on the train and test sets.\n"
   ]
  },
  {
   "cell_type": "markdown",
   "metadata": {},
   "source": [
    "# RIDGE REGRESSION\n"
   ]
  },
  {
   "cell_type": "code",
   "execution_count": 277,
   "metadata": {},
   "outputs": [
    {
     "data": {
      "text/plain": [
       "GridSearchCV(cache_cv=True, cv=10, error_score='raise',\n",
       "       estimator=Ridge(alpha=1.0, copy_X=True, fit_intercept=True, max_iter=None,\n",
       "   normalize=False, random_state=None, solver='auto', tol=0.001),\n",
       "       iid=True, n_jobs=4,\n",
       "       param_grid={'alpha': [0.06, 0.01, 0.05, 0.1, 0.2]}, refit=True,\n",
       "       return_train_score=True, scheduler=None,\n",
       "       scoring=make_scorer(mean_squared_error))"
      ]
     },
     "execution_count": 277,
     "metadata": {},
     "output_type": "execute_result"
    }
   ],
   "source": [
    "rg = Ridge()\n",
    "param_grid = {'alpha': [0.06, 0.01,0.05, 0.1,0.2]}\n",
    "rg_gscv = dcv.GridSearchCV(estimator=rg, param_grid=param_grid, scoring=make_scorer(mean_squared_error), \n",
    "                                   cv=10, return_train_score=True,n_jobs=4)\n",
    "\n",
    "rg_gscv.fit(train_final, y_train)"
   ]
  },
  {
   "cell_type": "code",
   "execution_count": 171,
   "metadata": {},
   "outputs": [
    {
     "data": {
      "text/plain": [
       "{'alpha': 0.01}"
      ]
     },
     "execution_count": 171,
     "metadata": {},
     "output_type": "execute_result"
    }
   ],
   "source": [
    "# Getting the best parameters from the grid search \n",
    "rg_gscv.best_params_"
   ]
  },
  {
   "cell_type": "code",
   "execution_count": 172,
   "metadata": {},
   "outputs": [
    {
     "data": {
      "text/plain": [
       "6.164215131525373"
      ]
     },
     "execution_count": 172,
     "metadata": {},
     "output_type": "execute_result"
    }
   ],
   "source": [
    "# Best score for training\n",
    "rg_gscv.best_score_"
   ]
  },
  {
   "cell_type": "code",
   "execution_count": 173,
   "metadata": {},
   "outputs": [
    {
     "data": {
      "text/plain": [
       "7.133488479650598"
      ]
     },
     "execution_count": 173,
     "metadata": {},
     "output_type": "execute_result"
    }
   ],
   "source": [
    "# predicting for the test set based on best params \n",
    "rg.best = rg_gscv.best_estimator_\n",
    "y_pred = rg.best.predict(test_final)\n",
    "mean_squared_error(y_pred, y_test)"
   ]
  },
  {
   "cell_type": "code",
   "execution_count": 174,
   "metadata": {},
   "outputs": [],
   "source": [
    "# Making the list of cv scores for test data \n",
    "rg_res= pd.DataFrame(rg_gscv.cv_results_)\n",
    "rg_res=rg_res[rg_res[\"params\"] == {'alpha': 0.01}]\n",
    "rg_cv_score = [ ]\n",
    "for k in range(10):\n",
    "        rg_cv_score.append(rg_res[\"split\"+str(k)+\"_test_score\"].values[0])\n"
   ]
  },
  {
   "cell_type": "code",
   "execution_count": null,
   "metadata": {},
   "outputs": [],
   "source": []
  },
  {
   "cell_type": "markdown",
   "metadata": {},
   "source": [
    "# GRADIENT-BOOSTING"
   ]
  },
  {
   "cell_type": "code",
   "execution_count": 196,
   "metadata": {},
   "outputs": [
    {
     "data": {
      "text/plain": [
       "GridSearchCV(cache_cv=True, cv=10, error_score='raise',\n",
       "       estimator=GradientBoostingRegressor(alpha=0.9, criterion='friedman_mse', init=None,\n",
       "             learning_rate=0.1, loss='ls', max_depth=3, max_features=None,\n",
       "             max_leaf_nodes=None, min_impurity_decrease=0.0,\n",
       "             min_impurity_split=None, min_samples_leaf=1,\n",
       "             min_samples_split=2, min_weight_fraction_leaf=0.0,\n",
       "             n_estimators=100, presort='auto', random_state=None,\n",
       "             subsample=1.0, verbose=0, warm_start=False),\n",
       "       iid=True, n_jobs=5,\n",
       "       param_grid={'learning_rate': [0.05, 0.07, 0.1], 'n_estimators': [25, 40, 50], 'subsample': [0.5, 0.7, 1.0]},\n",
       "       refit=True, return_train_score=True, scheduler=None,\n",
       "       scoring=make_scorer(mean_squared_error))"
      ]
     },
     "execution_count": 196,
     "metadata": {},
     "output_type": "execute_result"
    }
   ],
   "source": [
    "param_grid = {'learning_rate': [0.05, 0.07, 0.1],\n",
    "              'n_estimators': [25,40,50],\n",
    "              'subsample': [0.5, 0.7, 1.0]}\n",
    "gb = GradientBoostingRegressor()\n",
    "gb_gscv = GridSearchCV(estimator=gb, param_grid=param_grid, scoring=make_scorer(mean_squared_error),\n",
    "                                cv=10, return_train_score=True,n_jobs=5)\n",
    "gb_gscv.fit(train_final, y_train)"
   ]
  },
  {
   "cell_type": "code",
   "execution_count": 197,
   "metadata": {},
   "outputs": [
    {
     "data": {
      "text/plain": [
       "{'learning_rate': 0.05, 'n_estimators': 25, 'subsample': 1.0}"
      ]
     },
     "execution_count": 197,
     "metadata": {},
     "output_type": "execute_result"
    }
   ],
   "source": [
    "gb_gscv.best_params_"
   ]
  },
  {
   "cell_type": "code",
   "execution_count": 198,
   "metadata": {},
   "outputs": [
    {
     "data": {
      "text/plain": [
       "5.990892404942568"
      ]
     },
     "execution_count": 198,
     "metadata": {},
     "output_type": "execute_result"
    }
   ],
   "source": [
    "gb_gscv.best_score_"
   ]
  },
  {
   "cell_type": "code",
   "execution_count": 268,
   "metadata": {},
   "outputs": [
    {
     "data": {
      "text/plain": [
       "5.450630633253695"
      ]
     },
     "execution_count": 268,
     "metadata": {},
     "output_type": "execute_result"
    }
   ],
   "source": [
    "# predicting for the test set based on best params \n",
    "gb.best = gb_gscv.best_estimator_\n",
    "y_pred = gb.best.predict(test_final)\n",
    "mean_squared_error(y_pred, y_test)"
   ]
  },
  {
   "cell_type": "code",
   "execution_count": 201,
   "metadata": {},
   "outputs": [],
   "source": [
    "# Get the list of score from the cv folds\n",
    "gb_res= pd.DataFrame(gb_gscv.cv_results_)\n",
    "gb_res=gb_res[gb_res[\"params\"] == {'learning_rate': 0.05, 'n_estimators': 25, 'subsample': 1.0} ]\n",
    "gb_cv_score = [ ]\n",
    "for k in range(10):\n",
    "        gb_cv_score.append(gb_res[\"split\"+str(k)+\"_test_score\"].values[0])\n"
   ]
  },
  {
   "cell_type": "markdown",
   "metadata": {},
   "source": [
    "# BAGGING"
   ]
  },
  {
   "cell_type": "code",
   "execution_count": 239,
   "metadata": {},
   "outputs": [
    {
     "data": {
      "text/plain": [
       "GridSearchCV(cache_cv=True, cv=10, error_score='raise',\n",
       "       estimator=BaggingRegressor(base_estimator=None, bootstrap=True,\n",
       "         bootstrap_features=False, max_features=1.0, max_samples=1.0,\n",
       "         n_estimators=10, n_jobs=1, oob_score=False, random_state=None,\n",
       "         verbose=0, warm_start=False),\n",
       "       iid=True, n_jobs=1,\n",
       "       param_grid={'n_estimators': [25, 50], 'max_samples': [0.8, 1.0]},\n",
       "       refit=True, return_train_score=True, scheduler=None,\n",
       "       scoring=make_scorer(mean_squared_error))"
      ]
     },
     "execution_count": 239,
     "metadata": {},
     "output_type": "execute_result"
    }
   ],
   "source": [
    "\n",
    "\n",
    "param_grid = {'n_estimators': [25, 50],'max_samples': [0.8,1.0]}\n",
    "             \n",
    "bg = BaggingRegressor()\n",
    "bg_gscv = GridSearchCV(estimator=bg, param_grid=param_grid, scoring=make_scorer(mean_squared_error),\n",
    "                                     cv=10, return_train_score=True,n_jobs=1)\n",
    "bg_gscv.fit(train_final, y_train)\n"
   ]
  },
  {
   "cell_type": "code",
   "execution_count": 240,
   "metadata": {},
   "outputs": [
    {
     "data": {
      "text/plain": [
       "5.2512191999999995"
      ]
     },
     "execution_count": 240,
     "metadata": {},
     "output_type": "execute_result"
    }
   ],
   "source": [
    "# getting the best score from cv\n",
    "bg_gscv.best_score_"
   ]
  },
  {
   "cell_type": "code",
   "execution_count": 241,
   "metadata": {},
   "outputs": [
    {
     "data": {
      "text/plain": [
       "{'max_samples': 1.0, 'n_estimators': 25}"
      ]
     },
     "execution_count": 241,
     "metadata": {},
     "output_type": "execute_result"
    }
   ],
   "source": [
    "# getting the best parameters from cv \n",
    "bg_gscv.best_params_"
   ]
  },
  {
   "cell_type": "code",
   "execution_count": 242,
   "metadata": {},
   "outputs": [
    {
     "data": {
      "text/plain": [
       "5.494448737342426"
      ]
     },
     "execution_count": 242,
     "metadata": {},
     "output_type": "execute_result"
    }
   ],
   "source": [
    "# predict the mse for the test data  \n",
    "bg.best = bg_gscv.best_estimator_\n",
    "y_pred = bg.best.predict(test_final)\n",
    "mean_squared_error(y_pred, y_test)"
   ]
  },
  {
   "cell_type": "code",
   "execution_count": 250,
   "metadata": {},
   "outputs": [],
   "source": [
    "# collecting the test score for each fold from cv \n",
    "bg_res = pd.DataFrame(bg_gscv.cv_results_)\n",
    "bg_res=bg_res[bg_res[\"params\"] == { 'n_estimators': 25,'max_samples': 1.0}]\n",
    "bg_res\n",
    "bg_cv_score = [ ]\n",
    "for k in range(10):\n",
    "       bg_cv_score.append(bg_res[\"split\"+str(k)+\"_test_score\"].values[0])"
   ]
  },
  {
   "cell_type": "markdown",
   "metadata": {},
   "source": [
    "\n",
    "\n",
    "\n",
    "\n",
    "\n",
    "\n",
    "\n",
    "\n",
    "# VIZ-3 PLOTTING THE PERFORMANCE OF THE MODELS\n",
    "\n",
    "\n",
    "\n",
    "\n",
    "\n",
    "\n",
    "\n",
    "\n",
    "\n",
    "\n",
    "\n"
   ]
  },
  {
   "cell_type": "code",
   "execution_count": 252,
   "metadata": {},
   "outputs": [],
   "source": [
    "data_plot=[rg_cv_score,gb_cv_score,bg_cv_score]"
   ]
  },
  {
   "cell_type": "code",
   "execution_count": 288,
   "metadata": {},
   "outputs": [
    {
     "data": {
      "image/png": "[encoded data removed]",
      "text/plain": [
       "<Figure size 864x576 with 1 Axes>"
      ]
     },
     "metadata": {
      "image/png": {
       "height": 494,
       "width": 712
      }
     },
     "output_type": "display_data"
    }
   ],
   "source": [
    "\n",
    "fig = plt.figure(1, figsize=(12, 8))\n",
    "ax = fig.add_subplot(111)\n",
    "bp = ax.boxplot(data_plot,patch_artist=True,labels=[\"Ridge\", \"Gradient-Boosting\", \"Bagging\"])\n",
    "plt.xlabel(\"Methods\")\n",
    "plt.ylabel(\"Test MSE\")\n",
    "plt.title('Models performance' )\n",
    "plt.show()\n"
   ]
  },
  {
   "cell_type": "markdown",
   "metadata": {},
   "source": [
    "The above plot compares the performance of the 3 machine learning methods fitted on the data set \n",
    "The box plot is choosen as it is best to give the summary statistics for a distribution of values. \n",
    "\n",
    "The above plot shows the distribution of the  cross validation test scores of each split for each model.\n",
    "As we can see from the above plot as mean values of the Bagging approach is best compared to the other models."
   ]
  },
  {
   "cell_type": "markdown",
   "metadata": {},
   "source": [
    "# VIZ-4 TRAIN/TEST MSE COMPARISION\n"
   ]
  },
  {
   "cell_type": "code",
   "execution_count": 262,
   "metadata": {},
   "outputs": [],
   "source": [
    "# we can obtain the train and test mse for the 3 models\n",
    "\n",
    "ridge=[6.16421513152537,7.133488479650598]\n",
    "boosting=[5.990895472024961,5.450630633253695]\n",
    "bagging=[5.2512191999999995,5.494448737342426]\n",
    "plot_data=[rg,boosting,bagging]"
   ]
  },
  {
   "cell_type": "code",
   "execution_count": 271,
   "metadata": {},
   "outputs": [],
   "source": [
    "pf=pd.DataFrame(plot_data,columns=['train-mse','test-mse'],index=['ridgeregression','gradientboosting','bagging'])"
   ]
  },
  {
   "cell_type": "code",
   "execution_count": 272,
   "metadata": {},
   "outputs": [
    {
     "data": {
      "image/png": "[encoded data removed]",
      "text/plain": [
       "<Figure size 1440x864 with 1 Axes>"
      ]
     },
     "metadata": {
      "image/png": {
       "height": 761,
       "width": 1145
      }
     },
     "output_type": "display_data"
    }
   ],
   "source": [
    "pf.plot(kind='bar')\n",
    "plt.show()"
   ]
  },
  {
   "cell_type": "markdown",
   "metadata": {},
   "source": [
    "The above plot compares 3 models with the mse scores for the test and train.\n",
    "The test score is obtained by using the optimal parameters from the Grid Search method.\n",
    "The grouped bar chart is choosen as it best to show the variation using the color channel for the train and test mse.\n",
    "\n",
    "From the above plot we can see that the gradient boosting regressor generalizes the model very well and it has a lowest \n",
    "test mse compared to other methods.\n"
   ]
  },
  {
   "cell_type": "markdown",
   "metadata": {},
   "source": [
    "the feature importance plot is not choosen as with the use of hash function the original variable names \n",
    "cannot be decoded  from the hasher "
   ]
  },
  {
   "cell_type": "code",
   "execution_count": null,
   "metadata": {},
   "outputs": [],
   "source": []
  }
 ],
 "metadata": {
  "kernelspec": {
   "display_name": "Python 3",
   "language": "python",
   "name": "python3"
  }
 },
 "nbformat": 4,
 "nbformat_minor": 2
}
